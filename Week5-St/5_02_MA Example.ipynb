{
 "cells": [
  {
   "cell_type": "markdown",
   "id": "e56a00b7-bfaa-4e5a-b174-92a8b3b35009",
   "metadata": {},
   "source": [
    "From Time Series Forecasting in Python, Marco Peixeiro"
   ]
  },
  {
   "cell_type": "code",
   "execution_count": 1,
   "id": "environmental-wrapping",
   "metadata": {
    "tags": []
   },
   "outputs": [],
   "source": [
    "from statsmodels.tsa.statespace.sarimax import SARIMAX\n",
    "from statsmodels.tsa.arima_process import ArmaProcess\n",
    "from statsmodels.graphics.tsaplots import plot_acf\n",
    "from statsmodels.tsa.stattools import adfuller\n",
    "import matplotlib.pyplot as plt\n",
    "import numpy as np\n",
    "import pandas as pd\n",
    "\n",
    "import warnings\n",
    "warnings.filterwarnings('ignore')\n",
    "\n",
    "%matplotlib inline"
   ]
  },
  {
   "cell_type": "markdown",
   "id": "8eba2a2f-d6e5-4130-bab7-8ef15561d69b",
   "metadata": {},
   "source": [
    "**Read the dataset**\n",
    "\n",
    "**Create a series of dates from 2019-01-01 on ward for 500 days**\n",
    "\n"
   ]
  },
  {
   "cell_type": "code",
   "execution_count": null,
   "id": "431d7dd7-33d9-4571-8c4a-73b2409adcc3",
   "metadata": {},
   "outputs": [],
   "source": []
  },
  {
   "cell_type": "markdown",
   "id": "6779dcb4-a2ef-4f5a-8c3e-52b1b12d61db",
   "metadata": {},
   "source": [
    "**Get the ADF result, take the data difference for one period**"
   ]
  },
  {
   "cell_type": "code",
   "execution_count": null,
   "id": "3e9c944e-1f8d-4b52-8646-2dd4da5fb682",
   "metadata": {},
   "outputs": [],
   "source": []
  },
  {
   "cell_type": "markdown",
   "id": "018950fe-90c5-43d3-aab3-a2b2ef459bdd",
   "metadata": {},
   "source": [
    "**Plot acf**"
   ]
  },
  {
   "cell_type": "code",
   "execution_count": null,
   "id": "714f020b-d182-442d-a1dc-7846a16be385",
   "metadata": {},
   "outputs": [],
   "source": []
  },
  {
   "cell_type": "markdown",
   "id": "61ffe219-4310-4fd4-8cfb-b00d6a7ccda0",
   "metadata": {},
   "source": [
    "The moving average model assumes stationarity, meaning that our forecasts must be done on a stationary time series. Therefore, we will train and test our model on the differenced volume of widget sales."
   ]
  },
  {
   "cell_type": "markdown",
   "id": "32411805-93d8-4315-87b7-dc449c14e9b7",
   "metadata": {},
   "source": [
    "**Create a train and test dataset, 90-10 ratio**"
   ]
  },
  {
   "cell_type": "code",
   "execution_count": null,
   "id": "cde5c2e4-2d76-449e-b2aa-0ec1ed0be522",
   "metadata": {},
   "outputs": [],
   "source": []
  },
  {
   "cell_type": "markdown",
   "id": "ce73b0af-3f5c-4d7e-9c28-4cea74143c10",
   "metadata": {},
   "source": [
    "**Train a SARIMAX model and set the result for the first time forecasting window**"
   ]
  },
  {
   "cell_type": "code",
   "execution_count": null,
   "id": "d993fe96-629c-4b31-98ec-a6af190a0e02",
   "metadata": {},
   "outputs": [],
   "source": []
  },
  {
   "cell_type": "markdown",
   "id": "75532b51-4a53-4455-be88-f75d00184d6d",
   "metadata": {},
   "source": [
    "**Write a rolling forecasting function for**\n",
    "\n",
    "**Mean**\n",
    "\n",
    "**Last observation**\n",
    "\n",
    "**SARIMAX**"
   ]
  },
  {
   "cell_type": "code",
   "execution_count": null,
   "id": "going-acceptance",
   "metadata": {},
   "outputs": [],
   "source": []
  }
 ],
 "metadata": {
  "kernelspec": {
   "display_name": "Python 3 (ipykernel)",
   "language": "python",
   "name": "python3"
  },
  "language_info": {
   "codemirror_mode": {
    "name": "ipython",
    "version": 3
   },
   "file_extension": ".py",
   "mimetype": "text/x-python",
   "name": "python",
   "nbconvert_exporter": "python",
   "pygments_lexer": "ipython3",
   "version": "3.11.4"
  }
 },
 "nbformat": 4,
 "nbformat_minor": 5
}
