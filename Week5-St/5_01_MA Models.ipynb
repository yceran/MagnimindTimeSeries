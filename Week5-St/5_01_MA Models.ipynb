{
 "cells": [
  {
   "cell_type": "markdown",
   "id": "57e27769-4d87-460a-ad39-707245d27b3a",
   "metadata": {},
   "source": [
    "## Moving Average (MA Models)\n",
    "\n",
    "( mainly from Introduction to Time Series Forecasting with Python, Jason Brownlee)\n",
    "\n",
    "A moving average process, or the moving average (MA) model, states that the current value is linearly dependent on the current and past error terms. The error terms are assumed to be mutually independent and normally distributed, just like white noise.\n",
    "\n",
    "The residual errors from forecasts on a time series provide another source of information that we can model. Residual errors themselves form a time series that can have temporal structure. A simple autoregression model of this structure can be used to predict the forecast error, which in turn can be used to correct forecasts."
   ]
  },
  {
   "cell_type": "markdown",
   "id": "91ee6cf8-042a-412d-b5ca-37c629fe2310",
   "metadata": {},
   "source": [
    "**Residual Error:** \n",
    "The difference between what was expected and what was predicted is called the residual error. It is calculated as:\n",
    "$residual\\_error = expected-predicted$\n",
    "\n",
    "A moving average model is denoted as $MA(q)$, where $q$ is the order. The order $q$ of the moving average model determines the number of past error terms that affect the present value. The model expresses the present value as a linear combination of the mean of the series $\\mu$, the present error term $\\epsilon_t$, and past error terms $\\epsilon_{t-q}$\n",
    "\n",
    "$y_t = \\mu + \\epsilon_t + \\theta_1 \\epsilon_{t-1} + \\theta_2 \\epsilon_{t-2} +\\ldots+ \\theta_q \\epsilon_{t-q}$"
   ]
  },
  {
   "cell_type": "code",
   "execution_count": 103,
   "id": "e669ef9c-4654-4c60-bb7c-eace5aeda8b0",
   "metadata": {
    "tags": []
   },
   "outputs": [],
   "source": [
    "from statsmodels.graphics.tsaplots import plot_acf, plot_pacf\n",
    "from statsmodels.tsa.stattools import adfuller"
   ]
  },
  {
   "cell_type": "code",
   "execution_count": 37,
   "id": "5e530e4a-442c-499f-8032-01d38e914a04",
   "metadata": {
    "tags": []
   },
   "outputs": [],
   "source": [
    "# calculate residual errors for a persistence forecast model\n",
    "from pandas import read_csv\n",
    "from pandas import DataFrame\n",
    "from pandas import concat\n",
    "from sklearn.metrics import mean_squared_error\n",
    "from math import sqrt"
   ]
  },
  {
   "cell_type": "markdown",
   "id": "cdb3f404-815f-45ff-a01a-0333305cb3b3",
   "metadata": {},
   "source": [
    "**Load the data and plot it**"
   ]
  },
  {
   "cell_type": "code",
   "execution_count": null,
   "id": "f57e8618-dcc4-4576-a9f6-4adb843837a6",
   "metadata": {},
   "outputs": [],
   "source": []
  },
  {
   "cell_type": "markdown",
   "id": "c0f01c52-8ae0-4794-ad96-15cdfd346d33",
   "metadata": {},
   "source": [
    "**Get the ADF test result, plot the acf and pacf**"
   ]
  },
  {
   "cell_type": "code",
   "execution_count": null,
   "id": "ae889074-c281-4da7-ad2f-67a563c098b5",
   "metadata": {},
   "outputs": [],
   "source": []
  },
  {
   "cell_type": "markdown",
   "id": "a1b011c9-953e-401f-bd42-c53a3e8d7232",
   "metadata": {},
   "source": [
    "**Create a Persistence Model for Births Dataset**"
   ]
  },
  {
   "cell_type": "code",
   "execution_count": null,
   "id": "c2a0f661-a61d-4032-941e-a3e8b8d88b43",
   "metadata": {},
   "outputs": [],
   "source": []
  },
  {
   "cell_type": "markdown",
   "id": "5420efb7-7379-4ff6-8572-b14bdc1921fe",
   "metadata": {},
   "source": [
    "**Autoregression of Residual Error**\n",
    "We can model the residual error time series using an autoregression model. This is a linear regression model that creates a weighted linear sum of lagged residual error terms. For example:\n",
    "$error(t+1) = b_0 + b_1*error(t) + b_2 * error(t-1) + \\ldots +b_n * error(t-n)$\n",
    "\n",
    "As usual, the first step is to gather the data. Then we test for stationarity. If our series is not stationary, we apply transformations, such as differencing, until the series is stationary. Then we plot the ACF and look for significant autocorrelation coefficients. In the case of a random walk, we will not see significant coefficients after lag 0. On the other hand, if we see significant coefficients, we must check whether they become abruptly non-significant after some lag q. If that is the case, then we know that we have a moving average process of order q. "
   ]
  },
  {
   "cell_type": "markdown",
   "id": "9063d562-8e70-4fb3-99f5-8f3e7fb947eb",
   "metadata": {},
   "source": [
    "**Use the persistence Model, find the residuals, and create an MA model for the residuals**"
   ]
  },
  {
   "cell_type": "code",
   "execution_count": null,
   "id": "23266bdb-ed3e-4d44-b342-a26252d28dac",
   "metadata": {},
   "outputs": [],
   "source": []
  },
  {
   "cell_type": "code",
   "execution_count": null,
   "id": "bc661efd-1bba-493a-a6f6-91b0a9c6e01f",
   "metadata": {},
   "outputs": [],
   "source": []
  },
  {
   "cell_type": "markdown",
   "id": "1345d2c7-3b39-4ecd-b86f-4a840d709ebe",
   "metadata": {},
   "source": [
    "**Correct Predictions with a Model of REsiduals**\n",
    "we can add the expected forecast error to a prediction to correct it and in turn improve the skill of the mode\n",
    "\n",
    "$improved\\_forecast = forecast + estimated\\_error$"
   ]
  },
  {
   "cell_type": "code",
   "execution_count": null,
   "id": "06ffc16a-5442-4377-bcbb-526ff7bf2691",
   "metadata": {},
   "outputs": [],
   "source": []
  },
  {
   "cell_type": "markdown",
   "id": "d49d6ce4-ffa2-42e7-a5f8-202cd0ccfbd9",
   "metadata": {},
   "source": [
    "**Use from statsmodels.tsa.arima.model import ARIMA, train an ARIMA model**"
   ]
  },
  {
   "cell_type": "code",
   "execution_count": null,
   "id": "d2744d0e-5552-4b2f-9541-7702a5e88d6f",
   "metadata": {},
   "outputs": [],
   "source": []
  },
  {
   "cell_type": "markdown",
   "id": "ed1a2477-d31f-4d6c-9843-c9c4ef2c4f24",
   "metadata": {},
   "source": [
    "**Use from from statsmodels.tsa.statespace.sarimax import SARIMAX, train a SARIMAX model**"
   ]
  },
  {
   "cell_type": "code",
   "execution_count": null,
   "id": "629e6f1f-1f4c-4f59-84b8-79059e803f5d",
   "metadata": {},
   "outputs": [],
   "source": []
  },
  {
   "cell_type": "markdown",
   "id": "ce8e023d-b0bf-4456-843b-f0bc34325512",
   "metadata": {},
   "source": [
    "**Try seasonality adjustment on your SARIMAX model**"
   ]
  },
  {
   "cell_type": "code",
   "execution_count": null,
   "id": "dad15475-bc3f-41d1-90f5-0e6a37a9559b",
   "metadata": {},
   "outputs": [],
   "source": []
  }
 ],
 "metadata": {
  "kernelspec": {
   "display_name": "Python 3 (ipykernel)",
   "language": "python",
   "name": "python3"
  },
  "language_info": {
   "codemirror_mode": {
    "name": "ipython",
    "version": 3
   },
   "file_extension": ".py",
   "mimetype": "text/x-python",
   "name": "python",
   "nbconvert_exporter": "python",
   "pygments_lexer": "ipython3",
   "version": "3.11.4"
  }
 },
 "nbformat": 4,
 "nbformat_minor": 5
}
